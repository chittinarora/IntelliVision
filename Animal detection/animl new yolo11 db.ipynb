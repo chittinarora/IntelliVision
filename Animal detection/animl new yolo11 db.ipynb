{
 "cells": [
  {
   "cell_type": "code",
   "execution_count": null,
   "id": "abdb5243-aa66-4b85-af73-8957e76fb534",
   "metadata": {},
   "outputs": [],
   "source": [
    "from ultralytics import YOLO\n",
    "from pymongo import MongoClient\n",
    "import cv2, os\n",
    "from datetime import datetime\n",
    "\n",
    "# MongoDB connection\n",
    "client = MongoClient(\"mongodb://localhost:27017/\")\n",
    "col    = client[\"new_animal_db\"][\"detections\"]\n",
    "\n",
    "# Load YOLOv11n model\n",
    "model = YOLO(r\"C:\\Users\\Hp\\runs\\detect\\animal_yolov11n_data_1\\weights\\best.pt\")\n",
    "\n",
    "# Output folder\n",
    "output_dir = r\"F:\\animal-results\"\n",
    "os.makedirs(output_dir, exist_ok=True)\n"
   ]
  },
  {
   "cell_type": "code",
   "execution_count": null,
   "id": "87a2c0b0-b451-4716-9b97-f03092f79dca",
   "metadata": {},
   "outputs": [],
   "source": [
    "# ----- IMAGE PATH -----\n",
    "img_path = r\"F:\\animal-dataset\\img2.jpg\"\n",
    "\n",
    "img       = cv2.imread(img_path)\n",
    "results   = model(img, conf=0.25)\n",
    "annotated = results[0].plot()\n",
    "\n",
    "out_path  = os.path.join(output_dir, \"detected_\" + os.path.basename(img_path))\n",
    "cv2.imwrite(out_path, annotated)\n",
    "print(f\"✅ Image saved to {out_path}\")\n",
    "\n",
    "classes = [model.names[int(c)] for c in results[0].boxes.cls]\n",
    "confs   = [float(c) for c in results[0].boxes.conf]\n",
    "col.insert_one({\n",
    "    \"type\": \"image\",\n",
    "    \"image_name\": os.path.basename(img_path),\n",
    "    \"detected_animals\": classes,\n",
    "    \"confidences\": confs,\n",
    "    \"timestamp\": datetime.now()\n",
    "})\n",
    "print(\"✅ Metadata saved to MongoDB\")\n"
   ]
  },
  {
   "cell_type": "code",
   "execution_count": null,
   "id": "fb868ede-870c-464a-bdea-22869f54f2a7",
   "metadata": {},
   "outputs": [],
   "source": [
    "# ----- VIDEO PATH -----\n",
    "vid_path = r\"F:\\animal-dataset\\snake.mp4\"\n",
    "\n",
    "# Prep VideoWriter once (resolution & fps from OpenCV)\n",
    "cap  = cv2.VideoCapture(vid_path)\n",
    "fps, w, h = cap.get(5), int(cap.get(3)), int(cap.get(4))\n",
    "fourcc = cv2.VideoWriter_fourcc(*'XVID')\n",
    "out_path = os.path.join(output_dir, \"detected_\" + os.path.basename(vid_path).replace(\".mp4\", \".avi\"))\n",
    "writer   = cv2.VideoWriter(out_path, fourcc, fps, (w, h))\n",
    "cap.release()\n",
    "\n",
    "frame_id = 0\n",
    "for results in model.predict(source=vid_path,\n",
    "                             stream=True,\n",
    "                             conf=0.25,\n",
    "                             imgsz=640):\n",
    "\n",
    "    annotated = results.plot()      # BGR frame with boxes\n",
    "    writer.write(annotated)\n",
    "\n",
    "    classes = [results.names[int(c)] for c in results.boxes.cls]\n",
    "    confs   = [float(c) for c in results.boxes.conf]\n",
    "\n",
    "    col.insert_one({\n",
    "        \"type\": \"video\",\n",
    "        \"video_name\": os.path.basename(vid_path),\n",
    "        \"frame_id\": frame_id,\n",
    "        \"detected_animals\": classes,\n",
    "        \"confidences\": confs,\n",
    "        \"timestamp\": datetime.now()\n",
    "    })\n",
    "    frame_id += 1\n",
    "\n",
    "writer.release()\n",
    "print(f\"✅ Annotated video saved to {out_path}\")\n"
   ]
  },
  {
   "cell_type": "code",
   "execution_count": null,
   "id": "5c2f35ac-c2dc-4410-b9e4-9cfa9638ea36",
   "metadata": {},
   "outputs": [],
   "source": []
  },
  {
   "cell_type": "code",
   "execution_count": null,
   "id": "ec83474e-5c98-45d9-bf08-6630c7a0566c",
   "metadata": {},
   "outputs": [],
   "source": []
  },
  {
   "cell_type": "code",
   "execution_count": null,
   "id": "2b0921e3-7881-4d8f-b896-e7f35658f3c1",
   "metadata": {},
   "outputs": [],
   "source": []
  }
 ],
 "metadata": {
  "kernelspec": {
   "display_name": "Python (yolo)",
   "language": "python",
   "name": "yolo"
  },
  "language_info": {
   "codemirror_mode": {
    "name": "ipython",
    "version": 3
   },
   "file_extension": ".py",
   "mimetype": "text/x-python",
   "name": "python",
   "nbconvert_exporter": "python",
   "pygments_lexer": "ipython3",
   "version": "3.10.18"
  }
 },
 "nbformat": 4,
 "nbformat_minor": 5
}
