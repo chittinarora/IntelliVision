{
 "cells": [
  {
   "cell_type": "code",
   "execution_count": null,
   "id": "fe5ce329-e99b-448d-a98b-e0c63b2675e3",
   "metadata": {},
   "outputs": [],
   "source": [
    "from roboflow import Roboflow\n",
    "\n",
    "# Initialize Roboflow\n",
    "rf = Roboflow(api_key=\"pmjLucuMxbWrqhCN940N\")\n",
    "\n",
    "# Load project and version\n",
    "project = rf.workspace(\"animals-sxz9n\").project(\"animal-detection-jvsw5\")\n",
    "version = project.version(1)\n",
    "\n",
    "# Download in YOLOv11 format to F:/animal-dataset-upd\n",
    "dataset = version.download(\"yolov11\", location=\"F:/animal-dataset-upd\")\n"
   ]
  },
  {
   "cell_type": "code",
   "execution_count": null,
   "id": "9ba4b3a5-e64e-4fac-ab92-f0659dd20e6d",
   "metadata": {},
   "outputs": [],
   "source": [
    "from ultralytics import YOLO\n",
    "\n",
    "# Load YOLOv11 medium model\n",
    "model = YOLO(\"yolo11n.pt\")  \n",
    "\n",
    "# Train the model\n",
    "model.train(\n",
    "    data=r'F:\\animal-dataset-upd\\data.yaml',\n",
    "    epochs=50,\n",
    "    imgsz=640,\n",
    "    batch=32,\n",
    "    device=0,  # Use GPU 0\n",
    "    name='animal_yolov11n_data_1',  \n",
    "    project='runs/detect',\n",
    "    exist_ok=True\n",
    ")\n"
   ]
  },
  {
   "cell_type": "code",
   "execution_count": null,
   "id": "02a55856-a6d3-41ab-bca8-536f93f8ac52",
   "metadata": {},
   "outputs": [],
   "source": []
  }
 ],
 "metadata": {
  "kernelspec": {
   "display_name": "Python (yolo)",
   "language": "python",
   "name": "yolo"
  },
  "language_info": {
   "codemirror_mode": {
    "name": "ipython",
    "version": 3
   },
   "file_extension": ".py",
   "mimetype": "text/x-python",
   "name": "python",
   "nbconvert_exporter": "python",
   "pygments_lexer": "ipython3",
   "version": "3.10.18"
  }
 },
 "nbformat": 4,
 "nbformat_minor": 5
}
