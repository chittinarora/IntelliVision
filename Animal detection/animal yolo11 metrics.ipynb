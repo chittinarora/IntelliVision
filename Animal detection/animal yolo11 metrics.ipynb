{
 "cells": [
  {
   "cell_type": "code",
   "execution_count": null,
   "id": "dd246498-4c90-4960-bf89-96df2c17eea2",
   "metadata": {},
   "outputs": [],
   "source": [
    "from ultralytics import YOLO\n",
    "\n",
    "# Load the trained YOLOv11n model\n",
    "model = YOLO(r'C:\\Users\\Hp\\runs\\detect\\animal_yolov11n_finetune_data_2\\weights\\best.pt')\n"
   ]
  },
  {
   "cell_type": "code",
   "execution_count": null,
   "id": "96e22722-b3f7-4f7f-9b28-fcf1c9a60f67",
   "metadata": {},
   "outputs": [],
   "source": [
    "# Evaluate the model on the validation set defined in your data.yaml\n",
    "metrics = model.val()\n",
    "\n",
    "# Print key metrics\n",
    "print(\"mAP50:\", metrics.box.map50)\n",
    "print(\"mAP50-95:\", metrics.box.map)\n",
    "print(\"Precision:\", metrics.box.precision)\n",
    "print(\"Recall:\", metrics.box.recall)\n"
   ]
  },
  {
   "cell_type": "code",
   "execution_count": null,
   "id": "669565ae-98ed-4570-85be-aa69de29d92a",
   "metadata": {},
   "outputs": [],
   "source": [
    "# Print correct overall metrics\n",
    "print(\"mAP50:\", metrics.box.map50)\n",
    "print(\"mAP50-95:\", metrics.box.map)\n",
    "print(\"Mean Precision:\", metrics.box.mp)\n",
    "print(\"Mean Recall:\", metrics.box.mr)"
   ]
  },
  {
   "cell_type": "code",
   "execution_count": null,
   "id": "6a419ff1-fe66-4bd2-b69d-03d953083219",
   "metadata": {},
   "outputs": [],
   "source": [
    "\n",
    "print(\"mAP@0.5:\", metrics.box.map50)\n",
    "print(\"mAP@0.5:0.95:\", metrics.box.map)\n",
    "print(\"Mean Precision (mp):\", metrics.box.mp)\n",
    "print(\"Mean Recall (mr):\", metrics.box.mr)\n"
   ]
  },
  {
   "cell_type": "code",
   "execution_count": null,
   "id": "c9d9cde5-28e8-4afa-9fd5-518e0b73cbc9",
   "metadata": {},
   "outputs": [],
   "source": [
    "# F1-style accuracy estimation\n",
    "mp = metrics.box.mp\n",
    "mr = metrics.box.mr\n",
    "f1_accuracy = 2 * (mp * mr) / (mp + mr + 1e-6)  # add epsilon to avoid division by zero\n",
    "\n",
    "print(\"F1-Approximate Accuracy:\", f1_accuracy)\n"
   ]
  },
  {
   "cell_type": "code",
   "execution_count": null,
   "id": "806ae6fe-0884-4fc5-afe9-e316584bce4b",
   "metadata": {},
   "outputs": [],
   "source": [
    "from ultralytics import YOLO\n",
    "from PIL import Image\n",
    "import os\n",
    "\n",
    "# Load the trained YOLOv8 model\n",
    "model = YOLO(r\"C:\\Users\\Hp\\runs\\detect\\animal_yolov11n_finetune_data_2\\weights\\best.pt\")\n",
    "\n",
    "# Inference on a test image\n",
    "img_path = r\"F:\\animal-dataset-upd\\img.jpg\"\n",
    "results = model(img_path, conf=0.25)  # 🔁 Fixed here: use img_path\n",
    "\n",
    "# Define your custom output folder\n",
    "output_dir = \"F:/animal-results/\"\n",
    "os.makedirs(output_dir, exist_ok=True)\n",
    "\n",
    "# Define output file path\n",
    "output_path = os.path.join(output_dir, \"detected_img-8.jpg\")\n",
    "\n",
    "# Save image with bounding boxes to the custom path\n",
    "results[0].save(filename=output_path)\n",
    "\n",
    "# Optional: Display the saved result\n",
    "Image.open(output_path).show()\n"
   ]
  },
  {
   "cell_type": "code",
   "execution_count": null,
   "id": "a24e8922-0ea4-47e3-a326-37789d195c4f",
   "metadata": {},
   "outputs": [],
   "source": [
    "from ultralytics import YOLO\n",
    "import cv2\n",
    "import os\n",
    "\n",
    "# Load the trained model\n",
    "model = YOLO(r\"C:\\Users\\Hp\\runs\\detect\\animal_yolov11n_finetune_data_2\\weights\\best.pt\")\n",
    "\n",
    "# Define input video path\n",
    "video_path = r\"F:\\animal-dataset-upd\\snake.mp4\"\n",
    "\n",
    "# Define output video path\n",
    "output_path = r\"F:\\animal-results\\detected_video.mp4\"\n",
    "\n",
    "# Run inference and save video with detections\n",
    "model.predict(\n",
    "    source=video_path,\n",
    "    save=True,                     # Save output\n",
    "    save_txt=False,                # Optional: set True if you want labels in .txt files\n",
    "    project=\"F:/animal-results\",   # Directory to save results\n",
    "    name=\"video_result\",           # Subfolder name\n",
    "    conf=0.25,                     # Confidence threshold\n",
    "    stream=False,                  # Optional: True if you want real-time display\n",
    "    imgsz=640                      # Image size (adjust as needed)\n",
    ")\n"
   ]
  },
  {
   "cell_type": "code",
   "execution_count": null,
   "id": "f58c5b98-9cd9-4688-9c7f-7620fa89312d",
   "metadata": {},
   "outputs": [],
   "source": [
    "from ultralytics import YOLO\n",
    "import cv2\n",
    "import os\n",
    "\n",
    "# Load the trained model\n",
    "model = YOLO(r\"C:\\Users\\Hp\\runs\\detect\\animal_yolov11n_finetune_data_2\\weights\\best.pt\")\n",
    "\n",
    "# Define input video path\n",
    "video_path = r\"F:\\animal-dataset-upd\\video.mp4\"\n",
    "\n",
    "# Define output video path\n",
    "output_path = r\"F:\\animal-results\\detected_video.mp4\"\n",
    "\n",
    "# Run inference and save video with detections\n",
    "model.predict(\n",
    "    source=video_path,\n",
    "    save=True,                     # Save output\n",
    "    save_txt=False,                # Optional: set True if you want labels in .txt files\n",
    "    project=\"F:/animal-results\",   # Directory to save results\n",
    "    name=\"video_result\",           # Subfolder name\n",
    "    conf=0.25,                     # Confidence threshold\n",
    "    stream=False,                  # Optional: True if you want real-time display\n",
    "    imgsz=640                      # Image size (adjust as needed)\n",
    ")\n"
   ]
  },
  {
   "cell_type": "code",
   "execution_count": null,
   "id": "d5a2f451-7106-4b48-98d7-556fee3f7efb",
   "metadata": {},
   "outputs": [],
   "source": []
  },
  {
   "cell_type": "code",
   "execution_count": null,
   "id": "58c17764-f2ba-4bbb-873a-0e03594f485d",
   "metadata": {},
   "outputs": [],
   "source": []
  },
  {
   "cell_type": "code",
   "execution_count": null,
   "id": "3b2fcd2a-00aa-4ec9-9245-48144f86981e",
   "metadata": {},
   "outputs": [],
   "source": []
  }
 ],
 "metadata": {
  "kernelspec": {
   "display_name": "Python (yolo)",
   "language": "python",
   "name": "yolo"
  },
  "language_info": {
   "codemirror_mode": {
    "name": "ipython",
    "version": 3
   },
   "file_extension": ".py",
   "mimetype": "text/x-python",
   "name": "python",
   "nbconvert_exporter": "python",
   "pygments_lexer": "ipython3",
   "version": "3.10.18"
  }
 },
 "nbformat": 4,
 "nbformat_minor": 5
}
