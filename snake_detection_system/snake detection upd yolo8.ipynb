{
 "cells": [
  {
   "cell_type": "code",
   "execution_count": null,
   "id": "7f56a82b-b40c-4218-a5df-547404a76f3c",
   "metadata": {},
   "outputs": [],
   "source": [
    "# Extracting Dataset from Roboflow Universe"
   ]
  },
  {
   "cell_type": "code",
   "execution_count": null,
   "id": "f0613303-35f6-4b9f-9e83-73363e8b0e2f",
   "metadata": {},
   "outputs": [],
   "source": [
    "from roboflow import Roboflow\n",
    "from pathlib import Path"
   ]
  },
  {
   "cell_type": "code",
   "execution_count": null,
   "id": "6082ec78-167a-4357-805f-7a850ff4842b",
   "metadata": {},
   "outputs": [],
   "source": [
    "from roboflow import Roboflow\n",
    "from pathlib import Path\n",
    "\n",
    "API_KEY   = \"5lzgrgM9jrG8I98TYG2O\"\n",
    "WORKSPACE = \"aisnake\"\n",
    "PROJECT   = \"snakes-flxdk\"\n",
    "VERSION   = 7\n",
    "# 1  Authenticate and pick the dataset\n",
    "rf       = Roboflow(api_key=API_KEY)\n",
    "version  = rf.workspace(WORKSPACE).project(PROJECT).version(VERSION)\n",
    "\n",
    "# 2  Choose a target directory on F:\n",
    "target_dir = r\"F:\\datasets\\snakes-flxdk-7\"      # raw‑string avoids back‑slash escapes\n",
    "dataset    = version.download(\"yolov8\", location=target_dir)\n",
    "\n",
    "print(\"Data is now at:\", dataset.location)      # should print F:\\datasets\\snakes-flxdk-7"
   ]
  },
  {
   "cell_type": "code",
   "execution_count": null,
   "id": "fade9b70-be50-4426-aca4-370e865512ed",
   "metadata": {},
   "outputs": [],
   "source": [
    "from pathlib import Path\n",
    "base_path = Path(dataset.location)  \n"
   ]
  },
  {
   "cell_type": "code",
   "execution_count": null,
   "id": "4fb086d9-70dd-453e-bf63-ec11719e4e23",
   "metadata": {},
   "outputs": [],
   "source": [
    "print(\"Dataset saved to:\", dataset.location)\n",
    "# → '/home/…/snakes-flxdk-7'"
   ]
  },
  {
   "cell_type": "code",
   "execution_count": null,
   "id": "96d95f99-9730-467f-942a-f7b218b27c44",
   "metadata": {},
   "outputs": [],
   "source": [
    "# Count  and print number of images in each split (train, valid, test) and total image in the dataset"
   ]
  },
  {
   "cell_type": "code",
   "execution_count": null,
   "id": "a5b38ad8-5941-413b-b88f-7536cad0e6e1",
   "metadata": {},
   "outputs": [],
   "source": [
    "from pathlib import Path\n",
    "splits = [\"train\", \"valid\", \"test\"]\n",
    "\n",
    "total = 0\n",
    "for s in splits:\n",
    "    n = len(list((base / s / \"images\").glob(\"*.*\")))\n",
    "    total += n\n",
    "    print(f\"{s.capitalize()} images: {n}\")\n",
    "\n",
    "print(f\"Total images: {total}\")\n"
   ]
  },
  {
   "cell_type": "code",
   "execution_count": null,
   "id": "10f6cba9-239b-40ff-8fa9-7908dde44c5c",
   "metadata": {},
   "outputs": [],
   "source": [
    "#  Checking that each image has a label in train, valid, and test folders\n",
    "# This helps make sure the dataset is correct before training\n",
    "for split in [\"train\", \"valid\", \"test\"]:\n",
    "    images = list((base_path / split / \"images\").glob(\"*.jpg\"))\n",
    "    labels = list((base_path / split / \"labels\").glob(\"*.txt\"))\n",
    "\n",
    "    print(f\"{split.capitalize()}:\")\n",
    "    print(f\"  Images: {len(images)}\")\n",
    "    print(f\"  Labels: {len(labels)}\")\n",
    "    print(f\"  Missing labels: {len(images) - len(labels)}\\n\")"
   ]
  },
  {
   "cell_type": "code",
   "execution_count": null,
   "id": "e9732144-5259-4ec6-956e-2db365dab1f5",
   "metadata": {},
   "outputs": [],
   "source": [
    "#import necessary libaries"
   ]
  },
  {
   "cell_type": "code",
   "execution_count": null,
   "id": "7ec6ab2a-31c2-4014-ab84-661f1a0d744a",
   "metadata": {},
   "outputs": [],
   "source": [
    "import os\n",
    "from pathlib import Path\n",
    "import matplotlib.pyplot as plt\n",
    "import seaborn as sns\n",
    "from PIL import Image\n",
    "import random"
   ]
  },
  {
   "cell_type": "code",
   "execution_count": null,
   "id": "6311702e-dac8-434a-831f-ec471dea335d",
   "metadata": {},
   "outputs": [],
   "source": [
    "# Path to the dataset\n",
    "DATASET_PATH = Path(r\"G:/datasets/snakes-flsxdk-7\")\n",
    "\n",
    "splits = [\"train\", \"valid\", \"test\"]\n",
    "\n",
    "class_counts = {}\n",
    "image_dims = []\n",
    "object_counts = []\n",
    "\n",
    "for split in splits:\n",
    "    label_dir = DATASET_PATH / split / \"labels\"\n",
    "    image_dir = DATASET_PATH / split / \"images\"\n",
    "    \n",
    "    for label_file in label_dir.glob(\"*.txt\"):\n",
    "        with open(label_file, \"r\") as f:\n",
    "            lines = f.readlines()\n",
    "\n",
    "        object_counts.append(len(lines))  # # of objects in the image\n",
    "\n",
    "        for line in lines:\n",
    "            class_id = line.strip().split()[0]\n",
    "            class_counts[class_id] = class_counts.get(class_id, 0) + 1\n",
    "\n",
    "        # Get image dimensions\n",
    "        image_file = image_dir / label_file.with_suffix(\".jpg\").name\n",
    "        if not image_file.exists():\n",
    "            image_file = label_file.with_suffix(\".png\")\n",
    "        try:\n",
    "            with Image.open(image_file) as img:\n",
    "                image_dims.append(img.size)\n",
    "        except Exception as e:\n",
    "            print(f\"Failed to read {image_file}: {e}\")"
   ]
  },
  {
   "cell_type": "code",
   "execution_count": null,
   "id": "2f9d1319-8caa-4f71-83fc-c2ffb99e6ceb",
   "metadata": {},
   "outputs": [],
   "source": [
    "print(class_counts)        # should show something like {'0': 2000}\n"
   ]
  },
  {
   "cell_type": "code",
   "execution_count": null,
   "id": "b64aa2f2-ae54-4734-b63d-fef2046e6200",
   "metadata": {},
   "outputs": [],
   "source": [
    "from pathlib import Path\n",
    "\n",
    "base_path = Path(r\"F:/datasets/snakes-flxdk-7\")\n",
    "label_files = list((base_path / \"train\" / \"labels\").glob(\"*.txt\"))\n",
    "print(f\"Label files found: {len(label_files)}\")\n"
   ]
  },
  {
   "cell_type": "code",
   "execution_count": null,
   "id": "6fbf6e89-5221-44b6-99b7-510af11d0d1f",
   "metadata": {},
   "outputs": [],
   "source": [
    "class_counts = {}\n",
    "\n",
    "for label_file in (base_path / \"train\" / \"labels\").glob(\"*.txt\"):\n",
    "    with open(label_file, \"r\") as f:\n",
    "        for line in f:\n",
    "            if line.strip():  # skip empty lines\n",
    "                cls_id = line.strip().split()[0]\n",
    "                class_counts[cls_id] = class_counts.get(cls_id, 0) + 1\n",
    "\n",
    "print(class_counts)\n"
   ]
  },
  {
   "cell_type": "code",
   "execution_count": null,
   "id": "fff2f6a2-6adc-470e-a22d-ef2c4e84ba64",
   "metadata": {},
   "outputs": [],
   "source": [
    "# Class distribution\n",
    "plt.figure(figsize=(6, 4))\n",
    "sns.barplot(x=list(class_counts.keys()), y=list(class_counts.values()))\n",
    "plt.title(\"Class Distribution\")\n",
    "plt.xlabel(\"Class ID\")\n",
    "plt.ylabel(\"Count\")\n",
    "plt.grid(True)\n",
    "plt.tight_layout()\n",
    "plt.show()\n"
   ]
  },
  {
   "cell_type": "code",
   "execution_count": null,
   "id": "7e57debe-3a97-4865-bc31-cde97faf86e5",
   "metadata": {},
   "outputs": [],
   "source": [
    "# class distribution : All images are labeled as class 0, which means the dataset only has one type of object — snakes."
   ]
  },
  {
   "cell_type": "code",
   "execution_count": null,
   "id": "e17e73bf-aefb-4422-a13f-288746f924a7",
   "metadata": {},
   "outputs": [],
   "source": [
    "total_labels   = sum(class_counts.values())   # objects\n",
    "total_img_files = len(list((base_path / \"train\" / \"labels\").glob(\"*.txt\")))\n",
    "print(f\"Objects  : {total_labels}\")\n",
    "print(f\"Image files : {total_img_files}\")\n",
    "print(f\"Avg objects per image : {total_labels/total_img_files:.2f}\")\n"
   ]
  },
  {
   "cell_type": "code",
   "execution_count": null,
   "id": "0c592f23-fbe8-4b08-b29d-8be2695187e2",
   "metadata": {},
   "outputs": [],
   "source": [
    "# Summary: 1403 snake objects in 1262 images (~1.1 per image). Dataset looks balanced and ready to train."
   ]
  },
  {
   "cell_type": "code",
   "execution_count": null,
   "id": "cf1308c8-2f5a-40a9-8008-71a9b607c52f",
   "metadata": {},
   "outputs": [],
   "source": [
    "print(\"Length of object_counts:\", len(object_counts))\n"
   ]
  },
  {
   "cell_type": "code",
   "execution_count": null,
   "id": "f8a0acba-b906-41bc-a347-633933b67677",
   "metadata": {},
   "outputs": [],
   "source": [
    "object_counts = []\n",
    "\n",
    "for label_file in (base_path / \"train\" / \"labels\").glob(\"*.txt\"):\n",
    "    with open(label_file) as f:\n",
    "        lines = [ln for ln in f if ln.strip()]\n",
    "        object_counts.append(len(lines))   # how many boxes in this image\n"
   ]
  },
  {
   "cell_type": "code",
   "execution_count": null,
   "id": "ea16ebd3-f965-43a0-b445-314e29082251",
   "metadata": {},
   "outputs": [],
   "source": [
    "#  Object count per image"
   ]
  },
  {
   "cell_type": "code",
   "execution_count": null,
   "id": "e6f6850b-7b23-47aa-ad3e-b6b1f411fee5",
   "metadata": {},
   "outputs": [],
   "source": [
    "\n",
    "%matplotlib inline  \n",
    "\n",
    "import matplotlib.pyplot as plt\n",
    "import seaborn as sns\n",
    "\n",
    "plt.figure(figsize=(6, 4))\n",
    "sns.histplot(object_counts, bins=15, kde=True)\n",
    "plt.title(\"Number of Objects per Image\")\n",
    "plt.xlabel(\"# Objects\")\n",
    "plt.ylabel(\"Image Count\")\n",
    "plt.grid(True)\n",
    "plt.tight_layout()\n",
    "plt.show()\n"
   ]
  },
  {
   "cell_type": "code",
   "execution_count": null,
   "id": "fb2dde46-7943-47c8-9283-5fbc9b7091f3",
   "metadata": {},
   "outputs": [],
   "source": [
    "# Most images have only one snake, which makes the model easier to train. \n",
    "# Images with two or more snakes are rare, but the model can still detect multiple snakes if they appear.\n"
   ]
  },
  {
   "cell_type": "code",
   "execution_count": null,
   "id": "f0b1a3e8-5aa0-47f9-8251-2fab312df0dd",
   "metadata": {},
   "outputs": [],
   "source": [
    "from pathlib import Path\n",
    "from PIL import Image\n",
    "\n",
    "base_path = Path(r\"F:/datasets/snakes-flxdk-7\")    # adjust if needed\n",
    "splits = [\"train\", \"valid\", \"test\"]\n",
    "\n",
    "image_dims = []\n",
    "\n",
    "for split in splits:\n",
    "    for img_file in (base_path / split / \"images\").glob(\"*.*\"):\n",
    "        with Image.open(img_file) as img:\n",
    "            image_dims.append(img.size)    # (width, height)\n"
   ]
  },
  {
   "cell_type": "code",
   "execution_count": null,
   "id": "622ceef3-11e7-47bb-b845-90d680705fac",
   "metadata": {},
   "outputs": [],
   "source": [
    "# Image dimension distribution\n",
    "import matplotlib.pyplot as plt\n",
    "import seaborn as sns\n",
    "\n",
    "# make sure image_dims is not empty\n",
    "if image_dims:\n",
    "    widths, heights = zip(*image_dims)\n",
    "\n",
    "    plt.figure(figsize=(6, 4))\n",
    "    sns.histplot(widths,  color=\"blue\",  label=\"Width\",  kde=True, stat=\"density\")\n",
    "    sns.histplot(heights, color=\"green\", label=\"Height\", kde=True, stat=\"density\")\n",
    "    plt.title(\"Image Width and Height Distribution\")\n",
    "    plt.xlabel(\"Pixels\")\n",
    "    plt.legend()\n",
    "    plt.grid(True)\n",
    "    plt.tight_layout()\n",
    "    plt.show()\n",
    "else:\n",
    "    print(\"image_dims is empty—check dataset path or image reading loop.\")\n"
   ]
  },
  {
   "cell_type": "code",
   "execution_count": null,
   "id": "0889c90c-8307-435d-baa1-9831bb72b16c",
   "metadata": {},
   "outputs": [],
   "source": [
    "#Image Size Distribution :All images have the same size (640x640). The spike in the density plot shows that 100% of images are of this size,\n",
    "#which is perfect for YOLO training."
   ]
  },
  {
   "cell_type": "code",
   "execution_count": null,
   "id": "bbaea57a-0a7f-4192-8d2e-c241ec17dca5",
   "metadata": {},
   "outputs": [],
   "source": [
    "# Dataset Summary:\n",
    "# EDA confirms the dataset is clean and consistent — it has a single class (snake),\n",
    "# most images contain only 1 object, and all images are of uniform size.\n",
    "# This makes the dataset well-suited for training a YOLO object detection model."
   ]
  },
  {
   "cell_type": "code",
   "execution_count": null,
   "id": "4f6b5caa-d1bc-4be9-b066-cfd2c5abbc63",
   "metadata": {},
   "outputs": [],
   "source": [
    "!pip install ultralytics opencv-python matplotlib\n"
   ]
  },
  {
   "cell_type": "code",
   "execution_count": null,
   "id": "73b99380-c24b-477a-854e-21dbfdf593a3",
   "metadata": {},
   "outputs": [],
   "source": [
    "from ultralytics import YOLO\n",
    "\n",
    "data_yaml = r\"F:\\datasets\\snakes-flxdk-7\\data.yaml\"\n",
    "\n",
    "model = YOLO(\"yolov8s.pt\")  # or use a different pretrained checkpoint if preferred\n",
    "\n",
    "model.train(\n",
    "    data=data_yaml,\n",
    "    epochs=50,           # Increase for better learning\n",
    "    imgsz=640,           # Standard size for YOLOv8\n",
    "    batch=32,            # Works fine on most systems; increase if you have more GPU memory\n",
    "    name=\"snakes_v7\"     # This will go to runs/detect/snakes_v7\n",
    ")\n"
   ]
  },
  {
   "cell_type": "code",
   "execution_count": null,
   "id": "f4830b59-938e-466f-87aa-8ab95efad17b",
   "metadata": {},
   "outputs": [],
   "source": [
    "from pathlib import Path\n",
    "\n",
    "# Get full path to best.pt in your current run folder\n",
    "best_path = Path(\"runs/detect/snakes_v7/weights/best.pt\").resolve()\n",
    "\n",
    "print(\"✅ Your best.pt is located at:\\n\", best_path)\n"
   ]
  },
  {
   "cell_type": "code",
   "execution_count": null,
   "id": "2eb251fd-f4eb-4a20-9df0-ff316b2f7b3b",
   "metadata": {},
   "outputs": [],
   "source": [
    "from pathlib import Path\n",
    "for p in Path(\"runs/detect\").glob(\"snakes_v7*\"):\n",
    "    print(p)\n"
   ]
  },
  {
   "cell_type": "code",
   "execution_count": null,
   "id": "7e07f55d-b155-4f76-b929-865b3166cf77",
   "metadata": {},
   "outputs": [],
   "source": [
    "from ultralytics import YOLO\n",
    "import cv2, os\n",
    "\n",
    "src   = r\"F:\\datasets\\snakes-flxdk-7\\train\\images\\00f4b755cf5e796f940b4e63e58d8260_jpg.rf.22ec998708a06806b80b1435ca27e25d.jpg\"\n",
    "model = YOLO(r\"runs\\detect\\snakes_v7\\weights\\best.pt\")\n",
    "\n",
    "result    = model(src, imgsz=640, conf=0.25)[0]\n",
    "annotated = result.plot()\n",
    "\n",
    "results_dir = r\"F:\\results\"                          # <── define this\n",
    "os.makedirs(results_dir, exist_ok=True)\n",
    "\n",
    "save_path = os.path.join(results_dir, \"annotated_snake.jpg\")\n",
    "cv2.imwrite(save_path, annotated)\n",
    "\n",
    "print(f\"✅ Saved to {save_path}\")\n",
    "\n"
   ]
  },
  {
   "cell_type": "code",
   "execution_count": null,
   "id": "c65f01f7-bb9d-4d19-93e3-786304e917b1",
   "metadata": {},
   "outputs": [],
   "source": [
    "from pathlib import Path\n",
    "import datetime\n",
    "\n",
    "# Set path to YOLOv8 results folder\n",
    "detect_dir = Path(\"runs/detect\")\n",
    "\n",
    "# List all 'val' folders inside 'runs/detect'\n",
    "val_folders = [f for f in detect_dir.glob(\"val*\") if f.is_dir()]\n",
    "\n",
    "# Sort them by modification time (latest first)\n",
    "val_folders_sorted = sorted(val_folders, key=lambda x: x.stat().st_mtime, reverse=True)\n",
    "\n",
    "# Print them with timestamps\n",
    "for folder in val_folders_sorted:\n",
    "    mod_time = datetime.datetime.fromtimestamp(folder.stat().st_mtime)\n",
    "    print(f\"{folder.name} - Last modified: {mod_time}\")\n"
   ]
  },
  {
   "cell_type": "code",
   "execution_count": null,
   "id": "861501ff-8690-41db-b5b7-e974ac2565f3",
   "metadata": {},
   "outputs": [],
   "source": []
  }
 ],
 "metadata": {
  "kernelspec": {
   "display_name": "Python (internship)",
   "language": "python",
   "name": "internship"
  },
  "language_info": {
   "codemirror_mode": {
    "name": "ipython",
    "version": 3
   },
   "file_extension": ".py",
   "mimetype": "text/x-python",
   "name": "python",
   "nbconvert_exporter": "python",
   "pygments_lexer": "ipython3",
   "version": "3.8.20"
  }
 },
 "nbformat": 4,
 "nbformat_minor": 5
}
