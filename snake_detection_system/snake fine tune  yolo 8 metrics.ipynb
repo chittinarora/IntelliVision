{
 "cells": [
  {
   "cell_type": "code",
   "execution_count": null,
   "id": "a54d1985-ca32-4d0a-8b5d-19a2f093f184",
   "metadata": {},
   "outputs": [],
   "source": [
    "from ultralytics import YOLO\n",
    "\n",
    "# paths\n",
    "WEIGHTS   = r\"runs\\detect\\snakes_v7_finetune\\weights\\best.pt\"          \n",
    "DATA_YAML = r\"F:\\datasets\\snakes-flxdk-7\\data.yaml\"           # dataset with labels\n",
    "\n",
    "# evaluate\n",
    "model   = YOLO(WEIGHTS)\n",
    "metrics = model.val(\n",
    "    data = DATA_YAML,   # uses the test/val split defined inside this YAML\n",
    "    imgsz = 640,        # or whatever size you trained with\n",
    "    split = \"val\",      # change to \"test\" if your YAML has a test split\n",
    "    plots = True        # saves PR curve + confusion‑matrix pngs\n",
    ")\n",
    "\n",
    "# headline numbers\n",
    "print(f\"Precision : {metrics.box.map50:.4f}\")\n",
    "print(f\"Recall    : {metrics.box.recall:.4f}\")\n",
    "print(f\"mAP@0.5   : {metrics.box.map50:.4f}\")\n",
    "print(f\"mAP@0.5‑0.95 : {metrics.box.map:.4f}\")\n"
   ]
  },
  {
   "cell_type": "code",
   "execution_count": null,
   "id": "fbcfc1d8-25fe-468d-b728-2ee0c8dd1ca7",
   "metadata": {},
   "outputs": [],
   "source": [
    "import pandas as pd\n",
    "\n",
    "# 1) Point to the snake‑training run’s CSV\n",
    "csv_path = r\"runs\\detect\\snakes_v7_finetune\\results.csv\"   \n",
    "df = pd.read_csv(csv_path)\n",
    "\n",
    "# 2) Grab the last epoch row\n",
    "last = df.iloc[-1]\n",
    "\n",
    "# 3) Pull precision & recall columns (they’re the same names as before)\n",
    "precision = last['metrics/precision(B)']   # P @ IoU 0.5\n",
    "recall    = last['metrics/recall(B)']      # R @ IoU 0.5\n",
    "\n",
    "# 4) Compute a single “accuracy‑like” number (this is actually F1)\n",
    "accuracy = (2 * precision * recall) / (precision + recall)\n",
    "print(f\"Approx. detection accuracy: {accuracy:.3f}\")\n"
   ]
  },
  {
   "cell_type": "code",
   "execution_count": null,
   "id": "80dc9689-7b44-4592-9a33-f21e69c2d91b",
   "metadata": {},
   "outputs": [],
   "source": [
    "import pandas as pd\n",
    "\n",
    "# Load the training results CSV for snake detection\n",
    "csv_path = r\"runs\\detect\\snakes_v7_finetune\\results.csv\"  \n",
    "df = pd.read_csv(csv_path)\n",
    "\n",
    "# Get the final epoch's metrics\n",
    "last = df.iloc[-1]\n",
    "\n",
    "# Extract precision and recall\n",
    "precision = last['metrics/precision(B)']\n",
    "recall    = last['metrics/recall(B)']\n",
    "\n",
    "# Compute F1-score (used here as a proxy for 'accuracy')\n",
    "f1_score = (2 * precision * recall) / (precision + recall)\n",
    "\n",
    "# Print all three values\n",
    "print(f\"Precision : {precision:.3f}\")\n",
    "print(f\"Recall    : {recall:.3f}\")\n",
    "print(f\"Accuracy (F1): {f1_score:.3f}\")"
   ]
  },
  {
   "cell_type": "code",
   "execution_count": null,
   "id": "eb28882d-4636-4d27-8d42-833d5d59b787",
   "metadata": {},
   "outputs": [],
   "source": [
    "\n",
    "print(f\"mAP@0.5        : {metrics.box.map50:.4f}\")\n",
    "print(f\"mAP@0.5–0.95   : {metrics.box.map:.4f}\")\n"
   ]
  },
  {
   "cell_type": "code",
   "execution_count": null,
   "id": "3f4b903c-4a86-42ff-ac52-d9dbe86f2122",
   "metadata": {},
   "outputs": [],
   "source": [
    "\n",
    "\n",
    "# Print everything\n",
    "print(f\"\\n📊 Extended Evaluation Results:\")\n",
    "print(f\"Precision      : {precision:.4f}\")\n",
    "print(f\"Recall         : {recall:.4f}\")\n",
    "print(f\"F1-score       : {f1_score:.4f}\")\n",
    "print(f\"mAP@0.5        : {metrics.box.map50:.4f}\")\n",
    "print(f\"mAP@0.5–0.95   : {metrics.box.map:.4f}\")\n"
   ]
  },
  {
   "cell_type": "code",
   "execution_count": null,
   "id": "36bf3f54-f336-44c2-8791-0f7d042226b2",
   "metadata": {},
   "outputs": [],
   "source": []
  },
  {
   "cell_type": "code",
   "execution_count": null,
   "id": "25a2e567-f0c7-46a6-9ba7-e314d5d578fb",
   "metadata": {},
   "outputs": [],
   "source": []
  },
  {
   "cell_type": "code",
   "execution_count": null,
   "id": "1663f2a8-3fe0-4d2b-8877-3078958d46f7",
   "metadata": {},
   "outputs": [],
   "source": []
  }
 ],
 "metadata": {
  "kernelspec": {
   "display_name": "Python (internship)",
   "language": "python",
   "name": "internship"
  },
  "language_info": {
   "codemirror_mode": {
    "name": "ipython",
    "version": 3
   },
   "file_extension": ".py",
   "mimetype": "text/x-python",
   "name": "python",
   "nbconvert_exporter": "python",
   "pygments_lexer": "ipython3",
   "version": "3.8.20"
  }
 },
 "nbformat": 4,
 "nbformat_minor": 5
}
