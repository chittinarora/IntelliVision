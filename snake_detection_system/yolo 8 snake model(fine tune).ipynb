{
 "cells": [
  {
   "cell_type": "code",
   "execution_count": null,
   "id": "fdd55775-a818-4449-952e-7e3c245c1394",
   "metadata": {},
   "outputs": [],
   "source": [
    "!pip install charset_normalizer\n"
   ]
  },
  {
   "cell_type": "code",
   "execution_count": null,
   "id": "94bde2fb-4c88-479d-b6aa-b7af910ea518",
   "metadata": {},
   "outputs": [],
   "source": [
    "from ultralytics import YOLO\n",
    "\n",
    "# Path to your dataset YAML\n",
    "DATA_YAML = r\"F:\\datasets\\snakes-flxdk-7\\data.yaml\"\n",
    "\n",
    "# Load pre-trained weights \n",
    "PREV_MODEL_PATH = r\"runs\\detect\\snakes_v7\\weights\\best.pt\"\n"
   ]
  },
  {
   "cell_type": "code",
   "execution_count": null,
   "id": "4059bcc8-5c11-4ac3-81c4-48e75bda28fa",
   "metadata": {},
   "outputs": [],
   "source": [
    "model = YOLO(PREV_MODEL_PATH)  # Load the previously trained model\n"
   ]
  },
  {
   "cell_type": "code",
   "execution_count": null,
   "id": "e0c5acf9-22b3-48cb-ad43-08a4a35d0a6f",
   "metadata": {},
   "outputs": [],
   "source": [
    "model.train(\n",
    "    data=DATA_YAML,\n",
    "    epochs=20,               # fine-tune for 20 more epochs\n",
    "    imgsz=640,\n",
    "    batch=16,\n",
    "    name=\"snakes_v7_finetune\"  # results saved here\n",
    ")"
   ]
  },
  {
   "cell_type": "code",
   "execution_count": null,
   "id": "77341254-8114-4a83-8058-5b1714708fc5",
   "metadata": {},
   "outputs": [],
   "source": [
    "from pathlib import Path\n",
    "\n",
    "# Define the fine-tune run folder name\n",
    "run_name = \"snakes_v7_finetune\"\n",
    "\n",
    "# Get full path to the fine-tuned best.pt\n",
    "best_path = Path(f\"runs/detect/{run_name}/weights/best.pt\").resolve()\n",
    "\n",
    "print(\"✅ Your fine-tuned best.pt is located at:\\n\", best_path)\n",
    "\n"
   ]
  },
  {
   "cell_type": "code",
   "execution_count": null,
   "id": "9a7a0550-0f7f-47ab-8e32-213bf79a0a22",
   "metadata": {},
   "outputs": [],
   "source": []
  }
 ],
 "metadata": {
  "kernelspec": {
   "display_name": "Python (internship)",
   "language": "python",
   "name": "internship"
  },
  "language_info": {
   "codemirror_mode": {
    "name": "ipython",
    "version": 3
   },
   "file_extension": ".py",
   "mimetype": "text/x-python",
   "name": "python",
   "nbconvert_exporter": "python",
   "pygments_lexer": "ipython3",
   "version": "3.8.20"
  }
 },
 "nbformat": 4,
 "nbformat_minor": 5
}
