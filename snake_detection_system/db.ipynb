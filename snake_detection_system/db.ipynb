{
 "cells": [
  {
   "cell_type": "code",
   "execution_count": null,
   "id": "7d4d6ff9-6bbc-4b1c-97a0-0cfaf058c7bf",
   "metadata": {},
   "outputs": [],
   "source": [
    "from pymongo import MongoClient\n",
    "from ultralytics import YOLO\n",
    "import cv2\n",
    "from PIL import Image\n",
    "import numpy as np\n",
    "from datetime import datetime\n",
    "\n",
    "# --- Connect to MongoDB on custom port 27017 ---\n",
    "client = MongoClient(\"mongodb://localhost:27017/\")\n",
    "\n",
    "db = client[\"snake_db\"]\n",
    "collection = db[\"detections\"]\n",
    "\n",
    "# --- Load YOLO model ---\n",
    "model = YOLO(r\"C:\\Users\\Hp\\runs\\detect\\snakes_v7_finetune\\weights\\best.pt\")\n",
    "\n",
    "# --- Load image and run detection ---\n",
    "image_path = r\"F:\\datasets\\snakes-flxdk-7\\img.jpg\"\n",
    "img = cv2.imread(image_path)\n",
    "results = model(img)\n",
    "num_snakes = len(results[0].boxes)\n",
    "\n",
    "# --- Insert result into MongoDB ---\n",
    "doc = {\n",
    "    \"image_name\": image_path.split(\"\\\\\")[-1],\n",
    "    \"detected_snakes\": num_snakes,\n",
    "    \"timestamp\": datetime.now()\n",
    "}\n",
    "collection.insert_one(doc)\n",
    "\n",
    "print(f\"✅ Detection complete and saved to MongoDB.\")\n",
    "print(f\"Detected snakes: {num_snakes}\")\n",
    "\n"
   ]
  },
  {
   "cell_type": "code",
   "execution_count": null,
   "id": "5272b660-a443-4d25-b9d8-83c65badbdaa",
   "metadata": {},
   "outputs": [],
   "source": []
  }
 ],
 "metadata": {
  "kernelspec": {
   "display_name": "Python (internship)",
   "language": "python",
   "name": "internship"
  },
  "language_info": {
   "codemirror_mode": {
    "name": "ipython",
    "version": 3
   },
   "file_extension": ".py",
   "mimetype": "text/x-python",
   "name": "python",
   "nbconvert_exporter": "python",
   "pygments_lexer": "ipython3",
   "version": "3.8.20"
  }
 },
 "nbformat": 4,
 "nbformat_minor": 5
}
