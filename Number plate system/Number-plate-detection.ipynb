{
 "cells": [
  {
   "cell_type": "code",
   "execution_count": null,
   "id": "909a19fd-037e-480b-ba81-bfc02c068a56",
   "metadata": {},
   "outputs": [],
   "source": [
    "data_yaml = \"\"\"\n",
    "train: F:/license plate/images/train\n",
    "val: F:/license plate/images/val\n",
    "\n",
    "nc: 1\n",
    "names: ['license_plate']\n",
    "\"\"\"\n",
    "\n",
    "with open(r\"F:/license plate/data.yaml\", \"w\") as f:\n",
    "    f.write(data_yaml)\n"
   ]
  },
  {
   "cell_type": "code",
   "execution_count": null,
   "id": "dd76b695-c6c4-47cb-9064-8749462d5ef8",
   "metadata": {},
   "outputs": [],
   "source": [
    "from ultralytics import YOLO\n",
    "\n",
    "# Load pretrained YOLOv8n model\n",
    "model = YOLO('yolov8n.pt')\n",
    "\n",
    "# Train the model on your dataset\n",
    "model.train(data=r'F:/license plate/data.yaml', epochs=50, imgsz=640)\n"
   ]
  },
  {
   "cell_type": "code",
   "execution_count": null,
   "id": "ae822cee-2aba-4d59-ab06-75cea0e2bbb7",
   "metadata": {
    "scrolled": true
   },
   "outputs": [],
   "source": [
    "# Load your trained weights\n",
    "model = YOLO('runs/detect/train2/weights/best.pt')\n",
    "\n",
    "# Run prediction on a validation image\n",
    "results = model(r'F:\\license plate\\images\\val\\video_15.jpg')\n",
    "\n",
    "# Show prediction results\n",
    "results.show()\n",
    "\n"
   ]
  },
  {
   "cell_type": "code",
   "execution_count": null,
   "id": "dc3392b6-34ac-426c-8001-88dde1a0a9b1",
   "metadata": {},
   "outputs": [],
   "source": [
    "import os\n",
    "\n",
    "for root, dirs, files in os.walk('runs'):\n",
    "    for file in files:\n",
    "        if file.endswith('.pt'):\n",
    "            print(os.path.join(root, file))\n"
   ]
  },
  {
   "cell_type": "code",
   "execution_count": null,
   "id": "14b5416d-8ea4-4954-b2e7-e75eec1c89ea",
   "metadata": {},
   "outputs": [],
   "source": [
    "results = model(r'F:\\license plate\\images\\val\\video_15.jpg')\n",
    "\n",
    "# Show the first result\n",
    "results[0].show()\n"
   ]
  },
  {
   "cell_type": "code",
   "execution_count": null,
   "id": "b19dadba-384d-494d-9532-00395742bf95",
   "metadata": {},
   "outputs": [],
   "source": [
    "# Load your trained weights\n",
    "model = YOLO('runs/detect/train2/weights/best.pt')\n",
    "\n",
    "# Run prediction on a validation image\n",
    "results = model(r'F:\\license plate\\images\\val\\video_15.jpg')\n",
    "\n",
    "# Show prediction results\n",
    "results.show()\n"
   ]
  },
  {
   "cell_type": "code",
   "execution_count": null,
   "id": "552cac22-5844-428f-ba88-2e755b63e80b",
   "metadata": {},
   "outputs": [],
   "source": [
    "# Load your trained weights\n",
    "model = YOLO('runs/detect/train2/weights/best.pt')\n",
    "\n",
    "# Run prediction on a validation image\n",
    "results = model(r'F:\\license plate\\images\\val\\video_15.jpg')\n",
    "\n",
    "# Show prediction results (access the first result from the list)\n",
    "results[0].show()\n"
   ]
  },
  {
   "cell_type": "code",
   "execution_count": null,
   "id": "9fb3ad85-aac1-45d4-ab5b-150d9d57651f",
   "metadata": {},
   "outputs": [],
   "source": [
    "import os\n",
    "from ultralytics import YOLO\n",
    "from PIL import Image\n",
    "\n",
    "# Load your trained model\n",
    "model = YOLO('runs/detect/train2/weights/best.pt')\n",
    "\n",
    "# Path to validation images folder\n",
    "val_folder = r'F:\\license plate\\images\\val'\n",
    "\n",
    "# List all image files in the folder (filtering common image extensions)\n",
    "image_files = [f for f in os.listdir(val_folder) if f.lower().endswith(('.png', '.jpg', '.jpeg', '.bmp', '.gif'))]\n",
    "\n",
    "for img_file in image_files:\n",
    "    img_path = os.path.join(val_folder, img_file)\n",
    "    results = model(img_path)\n",
    "    results[0].show()  # show results for each image\n"
   ]
  },
  {
   "cell_type": "code",
   "execution_count": null,
   "id": "b3a78a07-92be-4a6a-a32b-e0bad5714655",
   "metadata": {},
   "outputs": [],
   "source": [
    "import os\n",
    "from ultralytics import YOLO\n",
    "import matplotlib.pyplot as plt\n",
    "\n",
    "model = YOLO('runs/detect/train2/weights/best.pt')\n",
    "val_folder = r'F:\\license plate\\images\\val'\n",
    "image_files = [f for f in os.listdir(val_folder) if f.lower().endswith(('.png', '.jpg', '.jpeg', '.bmp', '.gif'))]\n",
    "\n",
    "for img_file in image_files:\n",
    "    img_path = os.path.join(val_folder, img_file)\n",
    "    results = model(img_path)\n",
    "\n",
    "    # Convert results to numpy image\n",
    "    img = results[0].plot()  # This returns an image with predictions drawn\n",
    "    \n",
    "    plt.imshow(img)\n",
    "    plt.title(img_file)\n",
    "    plt.axis('off')\n",
    "    plt.show()\n",
    "    plt.clf()  \n"
   ]
  },
  {
   "cell_type": "code",
   "execution_count": null,
   "id": "00141e2a-2597-4ee2-88ee-0bb4f99bd36c",
   "metadata": {},
   "outputs": [],
   "source": [
    "from pathlib import Path\n",
    "import os\n",
    "\n",
    "# Relative path reported by Ultralytics\n",
    "rel_ckpt = Path(\"runs/detect/train2/weights/best.pt\")\n",
    "\n",
    "# Convert to absolute path & print it\n",
    "abs_ckpt = rel_ckpt.resolve()\n",
    "print(\"Checkpoint absolute path:\\n\", abs_ckpt)\n",
    "\n",
    "# Verify it exists and show its size\n",
    "if abs_ckpt.exists():\n",
    "    size_mb = abs_ckpt.stat().st_size / 1_048_576\n",
    "    print(f\"✅ File exists ({size_mb:.1f} MB)\")\n",
    "else:\n",
    "    print(\"❌ File not found – double‑check the path or current working directory\")\n",
    "\n",
    "# Optional: list everything in that weights folder\n",
    "print(\"\\nOther files in the same folder:\")\n",
    "for f in abs_ckpt.parent.iterdir():\n",
    "    print(\" •\", f.name)\n"
   ]
  },
  {
   "cell_type": "code",
   "execution_count": null,
   "id": "78859a55-59e7-4ffc-813c-b21f506d6e69",
   "metadata": {},
   "outputs": [],
   "source": [
    "import pandas as pd\n",
    "df = pd.read_csv(r\"runs/detect/train6/results.csv\")   \n",
    "latest = df.iloc[-1]\n",
    "print(f\"Precision : {latest['metrics/precision(B)']:.3f}\")\n",
    "print(f\"Recall    : {latest['metrics/recall(B)']:.3f}\")\n",
    "print(f\"mAP50‑95  : {latest['metrics/mAP50-95(B)']:.3f}\")\n"
   ]
  },
  {
   "cell_type": "code",
   "execution_count": null,
   "id": "4da5411e-b059-4d95-b3fc-7419d37cb928",
   "metadata": {},
   "outputs": [],
   "source": [
    "print(f\"mAP@0.50    : {latest['metrics/mAP50(B)']:.3f}\")\n"
   ]
  },
  {
   "cell_type": "code",
   "execution_count": null,
   "id": "67d20078-160d-4c80-a875-318d630b70e5",
   "metadata": {},
   "outputs": [],
   "source": [
    "best_idx = df['metrics/mAP50-95(B)'].idxmax()\n",
    "best = df.loc[best_idx]\n",
    "print(\"\\nBest epoch :\", int(best['epoch']))\n",
    "metrics_cols = [c for c in df.columns if c.startswith('metrics/')]\n",
    "print(best[metrics_cols])\n"
   ]
  },
  {
   "cell_type": "code",
   "execution_count": null,
   "id": "1c29bf3a-3cc7-4aed-9f6b-35aa1e130ab8",
   "metadata": {},
   "outputs": [],
   "source": [
    "print(df[['epoch','metrics/precision(B)','metrics/recall(B)']])\n"
   ]
  },
  {
   "cell_type": "code",
   "execution_count": null,
   "id": "e49dbb4d-630e-4082-ba0b-8ef96eb08d64",
   "metadata": {},
   "outputs": [],
   "source": [
    "import matplotlib.pyplot as plt\n",
    "\n",
    "plt.plot(df['epoch'], df['metrics/mAP50-95(B)'])\n",
    "plt.xlabel('Epoch')\n",
    "plt.ylabel('mAP50‑95')\n",
    "plt.title('Validation mAP50‑95 per Epoch')\n",
    "plt.grid(True)\n",
    "plt.show()\n"
   ]
  },
  {
   "cell_type": "code",
   "execution_count": null,
   "id": "6baa0783-67b8-4096-8703-e2a760f06f3e",
   "metadata": {},
   "outputs": [],
   "source": [
    "loss_cols = ['train/box_loss','val/box_loss',\n",
    "             'train/cls_loss','val/cls_loss']\n",
    "df[loss_cols].plot(figsize=(8,4), grid=True)\n",
    "plt.xlabel('Epoch'); plt.ylabel('Loss'); plt.title('Loss Curves')\n",
    "plt.show()\n"
   ]
  },
  {
   "cell_type": "code",
   "execution_count": null,
   "id": "35554a5e-59d5-44d4-8891-3ba0951e4d5c",
   "metadata": {},
   "outputs": [],
   "source": [
    "prec = latest['metrics/precision(B)']\n",
    "rec  = latest['metrics/recall(B)']\n",
    "f1   = 2 * (prec * rec) / (prec + rec + 1e-16)\n",
    "print(f\"F1‑score    : {f1:.3f}\")\n"
   ]
  },
  {
   "cell_type": "code",
   "execution_count": null,
   "id": "40a0eff0-e932-490b-8595-aa19ddcd3d26",
   "metadata": {},
   "outputs": [],
   "source": [
    "import pandas as pd\n",
    "import matplotlib.pyplot as plt\n",
    "\n",
    "# Load CSV\n",
    "df = pd.read_csv('runs/detect/train6/results.csv')\n",
    "\n",
    "# Plot mAP50‑95 vs. Epoch\n",
    "plt.figure(figsize=(8, 5))\n",
    "_ = plt.plot(df['epoch'], df['metrics/mAP50-95(B)'], marker='o')  # suppress text output\n",
    "\n",
    "plt.xlabel('Epoch')\n",
    "plt.ylabel('mAP50‑95')\n",
    "plt.title('Validation mAP50‑95 per Epoch')\n",
    "plt.grid(True)\n",
    "plt.tight_layout()\n",
    "plt.show()\n"
   ]
  },
  {
   "cell_type": "code",
   "execution_count": null,
   "id": "4a8a9d0c-7793-4b18-89ec-755cf51df6ba",
   "metadata": {},
   "outputs": [],
   "source": [
    "import os\n",
    "import shutil\n",
    "\n",
    "source_folder = 'runs/detect/predict'  # or your latest predict folder\n",
    "destination_folder = 'F:/license_plate_results'\n",
    "\n",
    "# Create destination if not exists\n",
    "os.makedirs(destination_folder, exist_ok=True)\n",
    "\n",
    "# Copy only image files (you can filter PNG, JPG etc.)\n",
    "for filename in os.listdir(source_folder):\n",
    "    if filename.lower().endswith(('.png', '.jpg', '.jpeg')):\n",
    "        shutil.copy(os.path.join(source_folder, filename), destination_folder)\n",
    "\n",
    "print(\"✅ Images copied to F:/license_plate_results\")\n"
   ]
  },
  {
   "cell_type": "code",
   "execution_count": null,
   "id": "82c05257-4a46-40ce-8be0-54aca80a177e",
   "metadata": {},
   "outputs": [],
   "source": [
    "from ultralytics import YOLO\n",
    "\n",
    "model = YOLO('runs/detect/train2/weights/best.pt')\n",
    "\n",
    "model.predict(\n",
    "    source=r'F:/license plate/images/val',   \n",
    "    save=True,\n",
    "    imgsz=640,                               \n",
    "    project=r'F:/license_plate_results',     \n",
    "    name='presentation',                     \n",
    "    exist_ok=True                            \n",
    ")\n"
   ]
  },
  {
   "cell_type": "code",
   "execution_count": null,
   "id": "23b36152-802d-4f51-a8ea-3e0828ac08a2",
   "metadata": {},
   "outputs": [],
   "source": [
    "import glob, pathlib\n",
    "\n",
    "annot_dir = pathlib.Path(r\"F:/license_plate_results/presentation\")\n",
    "imgs = sorted(glob.glob(str(annot_dir / \"*.jpg\")))\n",
    "print(\"✅ Saved\", len(imgs), \"annotated images in\", annot_dir)\n"
   ]
  },
  {
   "cell_type": "code",
   "execution_count": null,
   "id": "b0b8fa73-2d04-48d0-a769-ca73641f50f4",
   "metadata": {},
   "outputs": [],
   "source": []
  }
 ],
 "metadata": {
  "kernelspec": {
   "display_name": "Python (internship)",
   "language": "python",
   "name": "internship"
  },
  "language_info": {
   "codemirror_mode": {
    "name": "ipython",
    "version": 3
   },
   "file_extension": ".py",
   "mimetype": "text/x-python",
   "name": "python",
   "nbconvert_exporter": "python",
   "pygments_lexer": "ipython3",
   "version": "3.8.20"
  }
 },
 "nbformat": 4,
 "nbformat_minor": 5
}
