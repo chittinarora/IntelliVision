{
 "cells": [
  {
   "cell_type": "code",
   "execution_count": null,
   "id": "2b7d5f62-a3c5-499b-b61e-832687a39438",
   "metadata": {},
   "outputs": [],
   "source": [
    "import pytesseract, cv2\n",
    "from ultralytics import YOLO\n",
    "from pathlib import Path\n",
    "\n",
    "# Point pytesseract at the engine you installed:\n",
    "pytesseract.pytesseract.tesseract_cmd = r\"C:\\Program Files\\Tesseract-OCR\\tesseract.exe\"\n",
    "\n",
    "# Load your trained detector\n",
    "model = YOLO(r\"runs/detect/train2/weights/best.pt\")\n"
   ]
  },
  {
   "cell_type": "code",
   "execution_count": null,
   "id": "48d7b461-1814-490d-b846-24c366a86103",
   "metadata": {},
   "outputs": [],
   "source": [
    "def filter_boxes_with_ocr(result, min_chars=3):\n",
    "    \"\"\"\n",
    "    Return list of YOLO Boxes that contain >= min_chars alphanumerics\n",
    "    according to Tesseract.\n",
    "    \"\"\"\n",
    "    kept = []\n",
    "    for box in result.boxes:\n",
    "        x1, y1, x2, y2 = map(int, box.xyxy[0])\n",
    "        # crop from original BGR image\n",
    "        crop = result.orig_img[y1:y2, x1:x2]\n",
    "\n",
    "        # Tesseract expects RGB or grayscale\n",
    "        crop_rgb = cv2.cvtColor(crop, cv2.COLOR_BGR2RGB)\n",
    "\n",
    "        text = pytesseract.image_to_string(crop_rgb, config=\"--psm 7\")\n",
    "        # Keep if enough alphanumerics\n",
    "        if sum(ch.isalnum() for ch in text) >= min_chars:\n",
    "            kept.append(box)\n",
    "    return kept\n"
   ]
  },
  {
   "cell_type": "code",
   "execution_count": null,
   "id": "46fd0a3e-1c17-44ff-b2d3-c733b3c5a44b",
   "metadata": {},
   "outputs": [],
   "source": [
    "# Pick one test image\n",
    "img_path = r\"F:/license plate/images/val/video_15.jpg\"\n",
    "\n",
    "# Get prediction\n",
    "result = model(img_path)[0]              # result for that one image\n",
    "\n",
    "# Filter detections\n",
    "good_boxes = filter_boxes_with_ocr(result, min_chars=3)\n",
    "\n",
    "print(f\"YOLO found {len(result.boxes)} boxes, OCR kept {len(good_boxes)}\")\n",
    "\n",
    "# Draw only the kept boxes\n",
    "plotted = result.plot(boxes=good_boxes)  # plot() accepts an iterable of Boxes\n",
    "\n",
    "cv2.imwrite(r\"F:/license_plate_results/ocr_filtered.jpg\", plotted)\n",
    "print(\"✅ Saved annotated image with OCR‑filtered boxes.\")\n"
   ]
  },
  {
   "cell_type": "code",
   "execution_count": null,
   "id": "93cd5a14-565d-4773-9331-120278f0eac7",
   "metadata": {},
   "outputs": [],
   "source": [
    "img_dir = Path(r\"F:/license plate/images/val\")\n",
    "out_dir = Path(r\"F:/license_plate_results/ocr_filtered_imgs\")\n",
    "out_dir.mkdir(parents=True, exist_ok=True)\n",
    "\n",
    "for p in img_dir.glob(\"*.jpg\"):\n",
    "    r = model(str(p))[0]\n",
    "    good = filter_boxes_with_ocr(r, min_chars=3)\n",
    "    annotated = r.plot(boxes=good)\n",
    "    cv2.imwrite(str(out_dir / p.name), annotated)\n",
    "\n",
    "print(\"✅ Done — OCR‑filtered images written to\", out_dir)\n"
   ]
  },
  {
   "cell_type": "code",
   "execution_count": null,
   "id": "06a8adcd-752b-47df-9a4c-a45afdf23761",
   "metadata": {},
   "outputs": [],
   "source": []
  },
  {
   "cell_type": "code",
   "execution_count": null,
   "id": "89542a0b-006f-4c3b-92e7-edd6af82eabc",
   "metadata": {},
   "outputs": [],
   "source": []
  }
 ],
 "metadata": {
  "kernelspec": {
   "display_name": "Python (internship)",
   "language": "python",
   "name": "internship"
  },
  "language_info": {
   "codemirror_mode": {
    "name": "ipython",
    "version": 3
   },
   "file_extension": ".py",
   "mimetype": "text/x-python",
   "name": "python",
   "nbconvert_exporter": "python",
   "pygments_lexer": "ipython3",
   "version": "3.8.20"
  }
 },
 "nbformat": 4,
 "nbformat_minor": 5
}
